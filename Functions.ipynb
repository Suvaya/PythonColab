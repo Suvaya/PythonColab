{
  "nbformat": 4,
  "nbformat_minor": 0,
  "metadata": {
    "colab": {
      "name": "Functions.ipynb",
      "provenance": [],
      "collapsed_sections": [],
      "authorship_tag": "ABX9TyP4iLoQHv9czTKRvOpbrDmf",
      "include_colab_link": true
    },
    "kernelspec": {
      "name": "python3",
      "display_name": "Python 3"
    },
    "language_info": {
      "name": "python"
    }
  },
  "cells": [
    {
      "cell_type": "markdown",
      "metadata": {
        "id": "view-in-github",
        "colab_type": "text"
      },
      "source": [
        "<a href=\"https://colab.research.google.com/github/Suvaya/PythonColab/blob/main/Functions.ipynb\" target=\"_parent\"><img src=\"https://colab.research.google.com/assets/colab-badge.svg\" alt=\"Open In Colab\"/></a>"
      ]
    },
    {
      "cell_type": "markdown",
      "metadata": {
        "id": "M1FJEKQzxYJg"
      },
      "source": [
        "1. Write a function that calculates the X^Y."
      ]
    },
    {
      "cell_type": "code",
      "metadata": {
        "id": "Di8OS5aNxUj0"
      },
      "source": [
        "def power(X,Y):\n",
        "\n",
        "  print('X^Y is equal to: %d' %(X**Y))\n",
        "\n",
        "X = int(input(\"Enter a number: \"))\n",
        "\n",
        "Y = int(input(\"Enter a number: \"))\n",
        "\n",
        "print(power(X,Y))"
      ],
      "execution_count": null,
      "outputs": []
    },
    {
      "cell_type": "markdown",
      "metadata": {
        "id": "w6MpxeBvy-AQ"
      },
      "source": [
        "2. Write a Python function to multiply all the numbers in a list."
      ]
    },
    {
      "cell_type": "code",
      "metadata": {
        "id": "5ttfRn2Xy-Xs"
      },
      "source": [
        "numbers = []\n",
        "\n",
        "def multiply(numbers):  \n",
        "\n",
        "    total = 1\n",
        "  \n",
        "    for n in numbers:\n",
        "  \n",
        "        total *= n  \n",
        "  \n",
        "    return total  \n",
        "\n",
        "n = int(input(\"How many numbers do you want in the list? \"))\n",
        " \n",
        "for i in range(0, n):\n",
        "    \n",
        "    num = int(input(\"Enter a number: \"))\n",
        " \n",
        "    numbers.append(num)\n",
        "\n",
        "print(multiply(numbers))"
      ],
      "execution_count": null,
      "outputs": []
    },
    {
      "cell_type": "markdown",
      "metadata": {
        "id": "ksKf5G8u3UDk"
      },
      "source": [
        "3. Write a Python function to calculate the factorial of a number (a non-negative integer). The function accepts the number as an argument."
      ]
    },
    {
      "cell_type": "code",
      "metadata": {
        "id": "QnqwBU-o3UeI"
      },
      "source": [
        "def factorial(n):\n",
        "\n",
        "    if n == 0:\n",
        "\n",
        "        return 1\n",
        "\n",
        "    elif n < 0:\n",
        "\n",
        "      print(\"Number can't be negative or floating point!\")\n",
        "\n",
        "    else:\n",
        "\n",
        "        return n * factorial(n-1)\n",
        "\n",
        "n = int(input(\"Input a number to compute the factorial : \"))\n",
        "\n",
        "print(factorial(n))"
      ],
      "execution_count": null,
      "outputs": []
    },
    {
      "cell_type": "markdown",
      "metadata": {
        "id": "J0QXTedy6kZ8"
      },
      "source": [
        "4. Write a Python function that accepts a string and calculates the number of uppercase letters and lowercase letters."
      ]
    },
    {
      "cell_type": "code",
      "metadata": {
        "id": "pz5zWaqF6k3o"
      },
      "source": [
        "word = input(\"Enter a word: \")\n",
        "\n",
        "uppercase = []\n",
        "\n",
        "lowercase = []\n",
        "\n",
        "num_ch = []\n",
        "\n",
        "def cases(word):\n",
        "\n",
        "  for ch in word:\n",
        "\n",
        "    if (ch >= 'A' and ch <= 'Z'):\n",
        "\n",
        "      uppercase.append(ch) \n",
        " \n",
        "    elif (ch >= 'a' and ch <= 'z'):\n",
        "\n",
        "      lowercase.append(ch)\n",
        "\n",
        "    else:\n",
        "\n",
        "      num_ch.append(ch)\n",
        "\n",
        "  a = len(uppercase)\n",
        "\n",
        "  b = len(lowercase)\n",
        "\n",
        "  c = len(num_ch)\n",
        "\n",
        "  print(\"Total uppercase letters are: {}, lowercase letters are: {}. \\n Whereas the number of special characters and digits are: {}.\" .format(a, b, c))\n",
        "\n",
        "cases(word) "
      ],
      "execution_count": null,
      "outputs": []
    },
    {
      "cell_type": "markdown",
      "metadata": {
        "id": "91rIP6uC-LPY"
      },
      "source": [
        "5. Write a Python function that takes a list and returns a new list with unique elements of the first list."
      ]
    },
    {
      "cell_type": "code",
      "metadata": {
        "id": "iHRxhiMz-UTE",
        "colab": {
          "base_uri": "https://localhost:8080/"
        },
        "outputId": "56df398f-571e-4087-fe80-204a33fca33c"
      },
      "source": [
        "list = []\n",
        "\n",
        "unique_list = []\n",
        "\n",
        "def listmaker(a):\n",
        "\n",
        "  for i in range(0, n):\n",
        "    \n",
        "    a = input(\"\\nEnter the elements: \")\n",
        " \n",
        "    list.append(a)\n",
        "\n",
        "  print(f'\\nThe list is: {list}')\n",
        "\n",
        "  for x in list:\n",
        "    \n",
        "    if x not in unique_list:\n",
        "\n",
        "      unique_list.append(x)\n",
        "\n",
        "  print(f'\\nThe Unique list is: {unique_list}')\n",
        "\n",
        "n = int(input(\"How many items do you want in the list? \"))\n",
        "\n",
        "a = input(\"Retype the number of items you want... \")\n",
        " \n",
        "listmaker(a)"
      ],
      "execution_count": null,
      "outputs": [
        {
          "output_type": "stream",
          "text": [
            "How many items do you want in the list? 5\n",
            "Retype the number of items you want... 5\n",
            "\n",
            "Enter the elements: ram\n",
            "\n",
            "Enter the elements: hari\n",
            "\n",
            "Enter the elements: shyam\n",
            "\n",
            "Enter the elements: sita\n",
            "\n",
            "Enter the elements: ram\n",
            "\n",
            "The list is: ['ram', 'hari', 'shyam', 'sita', 'ram']\n",
            "The Unique list is: ['ram', 'hari', 'shyam', 'sita']\n"
          ],
          "name": "stdout"
        }
      ]
    },
    {
      "cell_type": "markdown",
      "metadata": {
        "id": "eYCRVy13GdfU"
      },
      "source": [
        "6. Write a Python program to print the even numbers from a given list.\n"
      ]
    },
    {
      "cell_type": "code",
      "metadata": {
        "id": "_eTOg1z-GgIE"
      },
      "source": [
        "def even(num):\n",
        "\n",
        "  if num%2 == 0:\n",
        "    \n",
        "    print(\"The number is even.\")\n",
        "  \n",
        "  else:\n",
        "\n",
        "    print(\"The number is odd.\")\n",
        "\n",
        "num = int(input(\"Enter a number: \")) \n",
        "\n",
        "even(num)"
      ],
      "execution_count": null,
      "outputs": []
    },
    {
      "cell_type": "markdown",
      "metadata": {
        "id": "1o3Kf6qFISYk"
      },
      "source": [
        "7. Write a Python function to check whether a string is a pangram or not."
      ]
    },
    {
      "cell_type": "code",
      "metadata": {
        "id": "75IXhqY7ISxk"
      },
      "source": [
        "import string\n",
        "  \n",
        "def pangram(word):\n",
        "\n",
        "    alphabet = \"abcdefghijklmnopqrstuvwxyz\"\n",
        "    for ch in alphabet:\n",
        "\n",
        "        if ch not in word.lower():\n",
        "\n",
        "            return False\n",
        "  \n",
        "    return True\n",
        "\n",
        "word = input(\"Type anything: \")\n",
        "\n",
        "if(pangram(word) == True):\n",
        "\n",
        "    print(\"\\nYour input is a pangram.\")\n",
        "\n",
        "else:\n",
        "\n",
        "    print(\"\\nNo!!! Your input is not a pangram.\")"
      ],
      "execution_count": null,
      "outputs": []
    },
    {
      "cell_type": "markdown",
      "metadata": {
        "id": "sugNCyELKbhI"
      },
      "source": [
        "8. Write a Python program that accepts a hyphen-separated sequence of words as input and prints the words in a hyphen-separated sequence after sorting them alphabetically.\n"
      ]
    },
    {
      "cell_type": "code",
      "metadata": {
        "colab": {
          "base_uri": "https://localhost:8080/"
        },
        "id": "bxYriEe-KchM",
        "outputId": "9c6e72c7-32ae-4366-f3de-92bdcd4d8cf3"
      },
      "source": [
        "items=[n for n in input(\"Input your words: \").split('-')]\n",
        "\n",
        "items.sort()\n",
        "\n",
        "print('-'.join(items))"
      ],
      "execution_count": null,
      "outputs": [
        {
          "output_type": "stream",
          "text": [
            "Input your words: fasdfas\n",
            "fasdfas\n"
          ],
          "name": "stdout"
        }
      ]
    },
    {
      "cell_type": "markdown",
      "metadata": {
        "id": "Bcdt8Rj-LPDk"
      },
      "source": [
        "9. Write a Python program to reverse a string."
      ]
    },
    {
      "cell_type": "code",
      "metadata": {
        "id": "e7pZYVdOLOz8"
      },
      "source": [
        "def reverse(s):\n",
        "\n",
        "  stringlength=len(s) \n",
        "\n",
        "  slicedString=s[stringlength::-1] \n",
        "\n",
        "  print (\"\\nYour reversed string is: \" + slicedString)\n",
        "\n",
        "string = input(\"Enter a string: \")\n",
        "\n",
        "reverse(string)"
      ],
      "execution_count": null,
      "outputs": []
    },
    {
      "cell_type": "markdown",
      "metadata": {
        "id": "Q7ktxFHwP9_E"
      },
      "source": [
        "10. Write a Python program to access a function inside a function."
      ]
    },
    {
      "cell_type": "code",
      "metadata": {
        "id": "AMsBl_rQP90I"
      },
      "source": [
        "def num1(x):\n",
        "\n",
        "       def num2(y):\n",
        "\n",
        "           return x+y\n",
        "\n",
        "       return num2\n",
        "\n",
        "x = int(input(\"Enter a number: \"))\n",
        "\n",
        "y = int(input(\"Enter a number: \"))\n",
        "\n",
        "num1(x)(y)"
      ],
      "execution_count": null,
      "outputs": []
    },
    {
      "cell_type": "markdown",
      "metadata": {
        "id": "9b3VHngRSmwo"
      },
      "source": [
        "11. Write a program to double a given number and add two numbers using lambda()?"
      ]
    },
    {
      "cell_type": "code",
      "metadata": {
        "id": "YiSLAsJzSmls"
      },
      "source": [
        "double = lambda x: 2 * x\n",
        "\n",
        "add = lambda a,y : a + y\n",
        "\n",
        "x = int(input(\"Enter a number: \"))\n",
        "\n",
        "y = int(input(\"Enter a number: \"))\n",
        "\n",
        "print(double(x))\n",
        "\n",
        "print(add(x,y))"
      ],
      "execution_count": null,
      "outputs": []
    },
    {
      "cell_type": "markdown",
      "metadata": {
        "id": "99XAn8TsfQ3g"
      },
      "source": [
        "14. Write three different functions to calculate the mean, variance and standard deviation of the following data.You need to call your mean function to within your variance and standard deviation functions."
      ]
    },
    {
      "cell_type": "code",
      "metadata": {
        "colab": {
          "base_uri": "https://localhost:8080/"
        },
        "id": "P05BvPAe6Ap8",
        "outputId": "cc1855e8-ea87-4d57-c000-246fe68f4116"
      },
      "source": [
        "\"\"\"\n",
        "for user defined data\n",
        "\n",
        "n = int(input(\"Enter number of elements : \"))\n",
        "\n",
        "for i in range(0, n):\n",
        "\n",
        "    a = int(input())\n",
        " \n",
        "    data.append(a)\"\"\"\n",
        "\n",
        "def mean(data):\n",
        "  \n",
        "  n = len(data)\n",
        "\n",
        "  mean = sum(data) / n\n",
        "  \n",
        "  return mean\n",
        "\n",
        "def variance(data):\n",
        "   \n",
        "  n = len(data)\n",
        "   \n",
        "  mean = sum(data) / n\n",
        "   \n",
        "  deviations = [(x - mean) ** 2 for x in data]\n",
        "    \n",
        "  variance = sum(deviations) / n\n",
        "\n",
        "  return variance\n",
        "\n",
        " \n",
        "def std_dev(data):\n",
        "\n",
        "  import math\n",
        "  \n",
        "  var = variance(data)\n",
        "  \n",
        "  std_dev = math.sqrt(var)\n",
        "  \n",
        "  return std_dev\n",
        "\n",
        "#Result\n",
        "data = [24, 36, 45, 45, 96, 56, 89, 12, 10, 100]\n",
        "\n",
        "print(\"Standard Deviation of the sample is % s \"% (std_dev(data)))\n",
        "\n",
        "print(\"Variance of the sample is % s \" % (variance(data))) \n",
        "\n",
        "print(\"Mean of the sample is % s \" % (mean(data))) "
      ],
      "execution_count": null,
      "outputs": [
        {
          "output_type": "stream",
          "text": [
            "Standard Deviation of the sample is 31.81524791668297 \n",
            "Variance of the sample is 1012.21 \n",
            "Mean of the sample is 51.3 \n"
          ],
          "name": "stdout"
        }
      ]
    }
  ]
}