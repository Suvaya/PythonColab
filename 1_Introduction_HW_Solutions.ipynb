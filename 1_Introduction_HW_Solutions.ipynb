{
  "nbformat": 4,
  "nbformat_minor": 0,
  "metadata": {
    "colab": {
      "name": "1_Introduction_HW_Solutions.ipynb",
      "provenance": [],
      "collapsed_sections": [],
      "authorship_tag": "ABX9TyOVnHq4hgP+HyL3bHRqD/2E",
      "include_colab_link": true
    },
    "kernelspec": {
      "name": "python3",
      "display_name": "Python 3"
    },
    "language_info": {
      "name": "python"
    }
  },
  "cells": [
    {
      "cell_type": "markdown",
      "metadata": {
        "id": "view-in-github",
        "colab_type": "text"
      },
      "source": [
        "<a href=\"https://colab.research.google.com/github/Suvaya/PythonColab/blob/main/1_Introduction_HW_Solutions.ipynb\" target=\"_parent\"><img src=\"https://colab.research.google.com/assets/colab-badge.svg\" alt=\"Open In Colab\"/></a>"
      ]
    },
    {
      "cell_type": "markdown",
      "metadata": {
        "id": "3wJwD6YJvHeQ"
      },
      "source": [
        "1. Write a Python code to calculate Permutation (5,3)"
      ]
    },
    {
      "cell_type": "code",
      "metadata": {
        "id": "ifavn-N5uv6c",
        "colab": {
          "base_uri": "https://localhost:8080/"
        },
        "outputId": "17f60c80-8fbd-437c-a94f-2269931d4eb4"
      },
      "source": [
        "import math\n",
        "\n",
        "n = 5\n",
        "\n",
        "r = 3\n",
        "\n",
        "permutation = int(math.factorial(n)/(math.factorial(n-r)))\n",
        "\n",
        "print(permutation)\n"
      ],
      "execution_count": null,
      "outputs": [
        {
          "output_type": "stream",
          "text": [
            "60\n"
          ],
          "name": "stdout"
        }
      ]
    },
    {
      "cell_type": "markdown",
      "metadata": {
        "id": "rIbvLaL62nFk"
      },
      "source": [
        "2. Write a Python code to calculate Combination (15,3)"
      ]
    },
    {
      "cell_type": "code",
      "metadata": {
        "colab": {
          "base_uri": "https://localhost:8080/"
        },
        "id": "D9lU75uk2pI0",
        "outputId": "e498f706-5e20-4d22-91bf-c70cfad558a6"
      },
      "source": [
        "import math\n",
        "\n",
        "n = 15\n",
        "\n",
        "r = 3\n",
        "\n",
        "combination = int(math.factorial(n)/(math.factorial(n-r)*math.factorial(r)))\n",
        "\n",
        "print(combination)"
      ],
      "execution_count": null,
      "outputs": [
        {
          "output_type": "stream",
          "text": [
            "455\n"
          ],
          "name": "stdout"
        }
      ]
    },
    {
      "cell_type": "markdown",
      "metadata": {
        "id": "Iwx30MXj4jWs"
      },
      "source": [
        "3. Write a Python code that takes the degree as input from the user and convert it into radian."
      ]
    },
    {
      "cell_type": "code",
      "metadata": {
        "colab": {
          "base_uri": "https://localhost:8080/"
        },
        "id": "xQiQXt0i4mrM",
        "outputId": "f1648739-9055-463d-843b-1cc05e909ae5"
      },
      "source": [
        "num = int(input(\"Enter the degree you want to convert: \"))\n",
        "\n",
        "conv = math.radians(num)\n",
        "\n",
        "print(\"Your degree in radian is: \", conv)\n",
        "\n"
      ],
      "execution_count": null,
      "outputs": [
        {
          "output_type": "stream",
          "text": [
            "Enter the degree you want to convert: 90\n",
            "Your degree in radian is:  1.5707963267948966\n"
          ],
          "name": "stdout"
        }
      ]
    },
    {
      "cell_type": "markdown",
      "metadata": {
        "id": "kNRB4Ke27qVE"
      },
      "source": [
        "4. Write a Python code that inputs input from the user and calculate its square root."
      ]
    },
    {
      "cell_type": "code",
      "metadata": {
        "colab": {
          "base_uri": "https://localhost:8080/"
        },
        "id": "nmusuVZe7xQ0",
        "outputId": "729718a6-d0ec-41eb-c470-76c97d6be159"
      },
      "source": [
        "num = int(input(\"Enter the number: \"))\n",
        "\n",
        "sqroot = math.sqrt(num)\n",
        "\n",
        "print(\"The square root of {} is {} \" .format(num , sqroot))"
      ],
      "execution_count": null,
      "outputs": [
        {
          "output_type": "stream",
          "text": [
            "Enter the number: 9\n",
            "The square root of 9 is 3.0 \n"
          ],
          "name": "stdout"
        }
      ]
    },
    {
      "cell_type": "markdown",
      "metadata": {
        "id": "C0CvE8sArWk0"
      },
      "source": [
        "5. Write a Python code to calculate LCM of (25,55)"
      ]
    },
    {
      "cell_type": "code",
      "metadata": {
        "colab": {
          "base_uri": "https://localhost:8080/"
        },
        "id": "_UVHyIzRrawA",
        "outputId": "856cd37d-fa96-4ac3-97ae-0527d7a30fd3"
      },
      "source": [
        "def lcm(x, y):\n",
        "   \"\"\"This function takes two\n",
        "   integers and returns the L.C.M.\"\"\"\n",
        "\n",
        "   # Choose the greater number\n",
        "   if x > y:\n",
        "       greater = x\n",
        "   else:\n",
        "       greater = y\n",
        "\n",
        "   while(True):\n",
        "       if((greater % x == 0) and (greater % y == 0)):\n",
        "           lcm = greater\n",
        "           break\n",
        "       greater += 1\n",
        "\n",
        "   return lcm\n",
        "\n",
        "num1 = 25\n",
        "num2 = 55\n",
        "\n",
        "print(\"The L.C.M. is: \", lcm(num1, num2))\n",
        "   "
      ],
      "execution_count": null,
      "outputs": [
        {
          "output_type": "stream",
          "text": [
            "The L.C.M. is:  275\n"
          ],
          "name": "stdout"
        }
      ]
    },
    {
      "cell_type": "markdown",
      "metadata": {
        "id": "VlB77BVK06S0"
      },
      "source": [
        "6. Ask enter to enter two numbers (say, a and b). Generate two random numbers between those two numbers and find a combination of these two newly generated random numbers. "
      ]
    },
    {
      "cell_type": "code",
      "metadata": {
        "colab": {
          "base_uri": "https://localhost:8080/"
        },
        "id": "QBTAw9j11BsQ",
        "outputId": "4fbb39d9-b1d2-4a27-9626-937321f40031"
      },
      "source": [
        "import random\n",
        "\n",
        "num1 = int(input(\"Enter a number: \"))\n",
        "\n",
        "num2 = int(input(\"Enter another number: \"))\n",
        "\n",
        "num3 = random.randint(num1,num2)\n",
        "\n",
        "num4 = random.randint(num1,num2)\n",
        "\n",
        "print(\"The random numbers are {} and {}\" .format(num3, num4))\n",
        "\n",
        "if num3 > num4:\n",
        "       combination = math.factorial(num3)/(math.factorial(num3-num4) * math.factorial(num4))\n",
        "else:\n",
        "       combination = math.factorial(num4)/(math.factorial(num4-num3) * math.factorial(num3))\n",
        "\n",
        "print(combination)\n",
        "\n"
      ],
      "execution_count": null,
      "outputs": [
        {
          "output_type": "stream",
          "text": [
            "Enter a number: 2\n",
            "Enter another number: 4\n",
            "The random numbers are 3 and 3\n",
            "1.0\n"
          ],
          "name": "stdout"
        }
      ]
    },
    {
      "cell_type": "markdown",
      "metadata": {
        "id": "oJDDzGPc7kJg"
      },
      "source": [
        "7. Divide 1000 by 3 and print the answer with only 5 numbers after decimal."
      ]
    },
    {
      "cell_type": "code",
      "metadata": {
        "colab": {
          "base_uri": "https://localhost:8080/"
        },
        "id": "TRceN2bp8IgE",
        "outputId": "e8bb3935-442c-4fd9-99f0-508f1e85bb91"
      },
      "source": [
        "num1 = 1000/3\n",
        "\n",
        "print(f'1000/3 is {round(num1, 5)}')"
      ],
      "execution_count": null,
      "outputs": [
        {
          "output_type": "stream",
          "text": [
            "1000/3 is 333.33333\n"
          ],
          "name": "stdout"
        }
      ]
    },
    {
      "cell_type": "markdown",
      "metadata": {
        "id": "uDo9K_rwBqI4"
      },
      "source": [
        "8. Write a program to convert 108 to binary."
      ]
    },
    {
      "cell_type": "code",
      "metadata": {
        "colab": {
          "base_uri": "https://localhost:8080/"
        },
        "id": "aRED77_LBtUA",
        "outputId": "d253922d-2731-4f62-af87-ea6276777d75"
      },
      "source": [
        "# Function to convert decimal number\n",
        "# to binary using recursion\n",
        "def Converter(num):\n",
        "     \n",
        "    if num >= 1:\n",
        "        Converter(num // 2)\n",
        "    print(num % 2, end = '')\n",
        " \n",
        "# Driver Code\n",
        "if __name__ == '__main__':\n",
        "     \n",
        "    # decimal value\n",
        "    dec_num = 108\n",
        "     \n",
        "    # Calling function\n",
        "    Converter(dec_num)"
      ],
      "execution_count": null,
      "outputs": [
        {
          "output_type": "stream",
          "text": [
            "01101100"
          ],
          "name": "stdout"
        }
      ]
    },
    {
      "cell_type": "markdown",
      "metadata": {
        "id": "GcKDLLbJIXb4"
      },
      "source": [
        "9. Write a program to convert 1008 to hexadecimal.\n"
      ]
    },
    {
      "cell_type": "code",
      "metadata": {
        "colab": {
          "base_uri": "https://localhost:8080/"
        },
        "id": "Fuqd6GxOIYjw",
        "outputId": "2b8c6490-39fc-4f67-a4e4-1b2cd346c43c"
      },
      "source": [
        "# decimal to hexadecimal\n",
        " \n",
        " \n",
        "def converter(n):\n",
        " \n",
        "    # char array to store\n",
        "    # hexadecimal number\n",
        "    hexNum = ['0'] * 100\n",
        " \n",
        "    # counter for hexadecimal\n",
        "    # number array\n",
        "    i = 0\n",
        "    while(n != 0):\n",
        " \n",
        "        # temporary variable\n",
        "        # to store remainder\n",
        "        temp = 0\n",
        " \n",
        "        # storing remainder\n",
        "        # in temp variable.\n",
        "        temp = n % 16\n",
        " \n",
        "        # check if temp < 10\n",
        "        if(temp < 10):\n",
        "            hexNum[i] = chr(temp + 48)\n",
        "            i = i + 1\n",
        "        else:\n",
        "            hexNum[i] = chr(temp + 55)\n",
        "            i = i + 1\n",
        "        n = int(n / 16)\n",
        " \n",
        "    # printing hexadecimal number\n",
        "    # array in reverse order\n",
        "    j = i - 1\n",
        "    while(j >= 0):\n",
        "        print((hexNum[j]), end=\"\")\n",
        "        j = j - 1\n",
        " \n",
        "# Driver Code\n",
        "n = 1008\n",
        "converter(n)"
      ],
      "execution_count": null,
      "outputs": [
        {
          "output_type": "stream",
          "text": [
            "3F0"
          ],
          "name": "stdout"
        }
      ]
    },
    {
      "cell_type": "markdown",
      "metadata": {
        "id": "_M4dT1Ey70xU"
      },
      "source": [
        "#Summary\n",
        "\n",
        "Firstly we learnt the standard print function in python and with the help of that, we learnt to check the python version.\n",
        "\n",
        "Comment\n",
        "For one line comment we understood that '#' could be used and for multiple line comments... \"\"\".......\"\"\" or '''....''' could be used.\n",
        "\n",
        "Variable\n",
        "After comments we learnt about variable declaration and found out that space cant be used or special characters cannot be used to declare a variable. We also learnt about snake_case, camelCase and PascalCase.\n",
        "\n",
        "After variables we learnt about string and numerical operations. And also how to take user input.\n",
        "\n",
        "Casting\n",
        "It is for pointing out the data the type of the selected variable.\n",
        "\n",
        "Maths \n",
        "For mathematical calculations we learnt how to import the maths library.\n",
        "\n",
        "Formatting\n",
        "The format() method formats the specified value(s) and insert them inside the string's placeholder."
      ]
    }
  ]
}