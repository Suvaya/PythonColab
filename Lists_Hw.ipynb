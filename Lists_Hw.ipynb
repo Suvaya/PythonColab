{
  "nbformat": 4,
  "nbformat_minor": 0,
  "metadata": {
    "colab": {
      "name": "Lists_Hw.ipynb",
      "provenance": [],
      "collapsed_sections": [],
      "include_colab_link": true
    },
    "kernelspec": {
      "name": "python3",
      "display_name": "Python 3"
    },
    "language_info": {
      "name": "python"
    }
  },
  "cells": [
    {
      "cell_type": "markdown",
      "metadata": {
        "id": "view-in-github",
        "colab_type": "text"
      },
      "source": [
        "<a href=\"https://colab.research.google.com/github/Suvaya/PythonColab/blob/main/Lists_Hw.ipynb\" target=\"_parent\"><img src=\"https://colab.research.google.com/assets/colab-badge.svg\" alt=\"Open In Colab\"/></a>"
      ]
    },
    {
      "cell_type": "markdown",
      "metadata": {
        "id": "wn-nVOfd-jl-"
      },
      "source": [
        "1.  Make a list of ten students in your class. Print the name of each student whose name starts with ‘B’.\n"
      ]
    },
    {
      "cell_type": "code",
      "metadata": {
        "id": "sPb9rm7n-mi_"
      },
      "source": [
        "students = [\"Alish Tuladhar\",\"Arbin Shrestha\",\"Shreejan Shrestha\",\"Shrijan Shrestha\",\"Pratik Kunwar\",\"Nischal K.C.\",\"Suvaya Shrestha\",\"Binay Paudel\",\"Sudip Chaudhary\",\"Aayush Khatri\"]\n",
        "\n",
        "B_names = [name for name in students if name[0] in 'B']\n",
        "    \n",
        "B_names.sort()\n",
        "\n",
        "print(\"The students whose name starts with B is: {}\" .format(B_names))\n"
      ],
      "execution_count": null,
      "outputs": []
    },
    {
      "cell_type": "markdown",
      "metadata": {
        "id": "EHadAU_APP9A"
      },
      "source": [
        "2. Make a list of ten students in your class. Print the name of each student whose name starts with 'A'.\n"
      ]
    },
    {
      "cell_type": "code",
      "metadata": {
        "id": "rCrFlFzkP4wR"
      },
      "source": [
        "students = [\"Alish\",\"Nawaraj\",\"Aadarsha\",\"Diwash\",\"Nayan\",\"Shrijan\",\"Albin\",\"Suvaya\",\"Sudip\",\"Krisha\"]\n",
        "\n",
        "names_a = [name for name in students if name.endswith('a')]\n",
        "    \n",
        "names_a.sort()\n",
        "\n",
        "print(\"The students whose name ends with A are: {}\" .format(names_a))"
      ],
      "execution_count": null,
      "outputs": []
    },
    {
      "cell_type": "markdown",
      "metadata": {
        "id": "jsYBEcIM_GUW"
      },
      "source": [
        "3. Print all the unique elements in the following list :"
      ]
    },
    {
      "cell_type": "code",
      "metadata": {
        "id": "9lW1vdZF_Gs9"
      },
      "source": [
        "fifa = ['Italy','Argentina','Germany','Brazil','France','Brazil','Italy','Spain','Germany','France']\n",
        "\n",
        "unique = list(set(fifa))\n",
        "\n",
        "print(\"The unique elements are: {}\" .format(unique))"
      ],
      "execution_count": null,
      "outputs": []
    },
    {
      "cell_type": "markdown",
      "metadata": {
        "id": "M0_bYM0NboLM"
      },
      "source": [
        "4. Change the first alphabet of all elements of the following list to capital."
      ]
    },
    {
      "cell_type": "code",
      "metadata": {
        "id": "VkBVE59Zb0uU"
      },
      "source": [
        "bob = ['hurricane', 'tambourine', 'blowing', 'numb']\n",
        "\n",
        "Bob = [elements.title() for elements in bob]\n",
        "\n",
        "print(Bob)"
      ],
      "execution_count": null,
      "outputs": []
    },
    {
      "cell_type": "markdown",
      "metadata": {
        "id": "71KhMRJU9piw"
      },
      "source": [
        "5. A = [‘a’,’b’,’c’,’d’] B = [‘1’,’a’,’2’,’b’]\n",
        "Find  AUB and A∩B."
      ]
    },
    {
      "cell_type": "code",
      "metadata": {
        "id": "UywMDlsq9-Pw"
      },
      "source": [
        "A = ['a', 'b', 'c', 'd']\n",
        "\n",
        "B = ['1', 'a', '2', 'b']\n",
        "\n",
        "setOne = set(A)\n",
        "\n",
        "setTwo = set(B)\n",
        "\n",
        "print(\"\\nUnion of Two Sets A and B are:\")\n",
        "\n",
        "Union = setOne | setTwo\n",
        "\n",
        "AUB = list(Union)\n",
        "\n",
        "AUB.sort()\n",
        "\n",
        "print(AUB)\n",
        "\n",
        "print(\"\\nAnd the intersection of Two Sets A and B are:\")\n",
        "\n",
        "Intersection = setOne & setTwo\n",
        "\n",
        "A_B = list(Intersection)\n",
        "\n",
        "A_B.sort()\n",
        "\n",
        "print(A_B)"
      ],
      "execution_count": null,
      "outputs": []
    },
    {
      "cell_type": "markdown",
      "metadata": {
        "id": "wTu28IrvHwkI"
      },
      "source": [
        "6. Calculate the mean and standard deviation of the following list:"
      ]
    },
    {
      "cell_type": "code",
      "metadata": {
        "colab": {
          "base_uri": "https://localhost:8080/"
        },
        "id": "M67BFMQ4Hycc",
        "outputId": "f9bfb30c-57b4-4569-dca0-aadc2b255ec3"
      },
      "source": [
        "import math\n",
        "\n",
        "Numbers = [1, 2, 3, 5, 88, 99, 55, 33, 41, 52]\n",
        "\n",
        "sumX = sum(Numbers)\n",
        "\n",
        "N = len(Numbers)\n",
        "\n",
        "Mean = sumX/N\n",
        "\n",
        "X2 = [number ** 2 for number in Numbers]\n",
        "\n",
        "sumX2 = sum(X2)\n",
        "\n",
        "sd = math.sqrt((sumX2/N) - (sumX/N)**2)\n",
        "\n",
        "print(\"The mean and the standard deviation of the list are {} and {:.6f} respectively.\" .format(Mean, sd))"
      ],
      "execution_count": 45,
      "outputs": [
        {
          "output_type": "stream",
          "text": [
            "The mean and the standard deviation of the list are 37.9 and 34.232879 respectively.\n"
          ],
          "name": "stdout"
        }
      ]
    }
  ]
}