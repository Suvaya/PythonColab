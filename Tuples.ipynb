{
  "nbformat": 4,
  "nbformat_minor": 0,
  "metadata": {
    "colab": {
      "name": "Tuples.ipynb",
      "provenance": [],
      "collapsed_sections": [],
      "authorship_tag": "ABX9TyMr36fHyI/O2VBiGnR8fS4y",
      "include_colab_link": true
    },
    "kernelspec": {
      "name": "python3",
      "display_name": "Python 3"
    },
    "language_info": {
      "name": "python"
    }
  },
  "cells": [
    {
      "cell_type": "markdown",
      "metadata": {
        "id": "view-in-github",
        "colab_type": "text"
      },
      "source": [
        "<a href=\"https://colab.research.google.com/github/Suvaya/PythonColab/blob/main/Tuples.ipynb\" target=\"_parent\"><img src=\"https://colab.research.google.com/assets/colab-badge.svg\" alt=\"Open In Colab\"/></a>"
      ]
    },
    {
      "cell_type": "markdown",
      "metadata": {
        "id": "5YeRDIQRSyO4"
      },
      "source": [
        "1. Convert tuples to list."
      ]
    },
    {
      "cell_type": "code",
      "metadata": {
        "id": "6mZ7jOjlSxR8"
      },
      "source": [
        "my_tuple = (10, \"potato\", 30, 40, 50)\n",
        "\n",
        "my_list = list(my_tuple)\n",
        "\n",
        "my_list"
      ],
      "execution_count": null,
      "outputs": []
    },
    {
      "cell_type": "markdown",
      "metadata": {
        "id": "BhCIVXXzZEgM"
      },
      "source": [
        "2. Write a program to calculate direction and magnitude of the vector described by the following points.\n",
        "A = (20,30)\n",
        "B = (30,40)"
      ]
    },
    {
      "cell_type": "code",
      "metadata": {
        "id": "dnA476Q0YnLo"
      },
      "source": [
        "import math\n",
        "\n",
        "A = (20,30)\n",
        "\n",
        "B = (30,40)\n",
        "\n",
        "#Magnitude calculation start\n",
        "\n",
        "x1 = A[0]\n",
        "\n",
        "x2 = B[0]\n",
        "\n",
        "y1 = A[1]\n",
        "\n",
        "y2 = B[1]\n",
        "\n",
        "#Magnitude calculation start\n",
        "\n",
        "M = math.sqrt((x2 - x1)**2 + (x2 - x1)**2)\n",
        "\n",
        "print(\"The magnitude of vector AB is: {}\" .format(M))\n",
        "\n",
        "#Magnitude calculation end\n",
        "\n",
        "#Direction calculation start\n",
        "\n",
        "a = math.atan((y2-y1)/(x2-x1))\n",
        "\n",
        "D = math.degrees(a)\n",
        "\n",
        "print(\"The direction of vector AB is: {}\" .format(D))\n",
        "\n",
        "#Direction calculation end\n"
      ],
      "execution_count": null,
      "outputs": []
    },
    {
      "cell_type": "markdown",
      "metadata": {
        "id": "eJ9oVrbwmGj4"
      },
      "source": [
        "3. Write a program to demonstrate data types that can be elements of a tuple.\n",
        "\n"
      ]
    },
    {
      "cell_type": "code",
      "metadata": {
        "colab": {
          "base_uri": "https://localhost:8080/"
        },
        "id": "e-kvMDbomJtc",
        "outputId": "8514c0bb-0e52-4cf4-f314-0424a99eaa0a"
      },
      "source": [
        "myTuples = (1, \"Numbers\", 2.546, 5j, True, range(3), b\"Hello\", bytearray(3), memoryview(bytes(5)), (8,4,6), [\"aloo\", \"bhanta\"], {1, 2}, {\"name\" : \"John\", \"age\" : 36}, frozenset({\"apple\", \"banana\", \"cherry\"}))\n",
        "\n",
        "a = type(myTuples[0])\n",
        "\n",
        "b = type(myTuples[1])\n",
        "\n",
        "c = type(myTuples[2])\n",
        "\n",
        "d = type(myTuples[3])\n",
        "\n",
        "e = type(myTuples[4])\n",
        "\n",
        "f = type(myTuples[5])\n",
        "\n",
        "g = type(myTuples[6])\n",
        "\n",
        "h = type(myTuples[7])\n",
        "\n",
        "i = type(myTuples[8])\n",
        "\n",
        "j = type(myTuples[9])\n",
        "\n",
        "k = type(myTuples[10])\n",
        "\n",
        "l = type(myTuples[11])\n",
        "\n",
        "m = type(myTuples[12])\n",
        "\n",
        "n = type(myTuples[13])\n",
        "\n",
        "datatypes = (a, b, c, d, e, f, g, h, i, j, k, l, m, n)\n",
        "\n",
        "datatypes\n",
        "\n",
        "\n"
      ],
      "execution_count": null,
      "outputs": [
        {
          "output_type": "execute_result",
          "data": {
            "text/plain": [
              "(int,\n",
              " str,\n",
              " float,\n",
              " complex,\n",
              " bool,\n",
              " range,\n",
              " bytes,\n",
              " bytearray,\n",
              " memoryview,\n",
              " tuple,\n",
              " list,\n",
              " set,\n",
              " dict,\n",
              " frozenset)"
            ]
          },
          "metadata": {
            "tags": []
          },
          "execution_count": 128
        }
      ]
    }
  ]
}