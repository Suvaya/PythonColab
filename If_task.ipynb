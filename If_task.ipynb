{
  "nbformat": 4,
  "nbformat_minor": 0,
  "metadata": {
    "colab": {
      "name": "If_task.ipynb",
      "provenance": [],
      "collapsed_sections": [],
      "authorship_tag": "ABX9TyMBPzXuMOcXy+Prg9X8IRhA",
      "include_colab_link": true
    },
    "kernelspec": {
      "name": "python3",
      "display_name": "Python 3"
    },
    "language_info": {
      "name": "python"
    }
  },
  "cells": [
    {
      "cell_type": "markdown",
      "metadata": {
        "id": "view-in-github",
        "colab_type": "text"
      },
      "source": [
        "<a href=\"https://colab.research.google.com/github/Suvaya/PythonColab/blob/main/If_task.ipynb\" target=\"_parent\"><img src=\"https://colab.research.google.com/assets/colab-badge.svg\" alt=\"Open In Colab\"/></a>"
      ]
    },
    {
      "cell_type": "markdown",
      "metadata": {
        "id": "srkDp15yVKLo"
      },
      "source": [
        "1. Write a python program to find the largest of three numbers ."
      ]
    },
    {
      "cell_type": "code",
      "metadata": {
        "colab": {
          "base_uri": "https://localhost:8080/"
        },
        "id": "T1NLScZ_VDz0",
        "outputId": "9e6d7527-5ca5-4541-8507-e54822a40b42"
      },
      "source": [
        "a = 1\n",
        "\n",
        "b = -4\n",
        "\n",
        "c = 0\n",
        "\n",
        "if a>=b and a>=c:\n",
        "\n",
        "  print(\"{} is the largest number.\" .format(a))\n",
        "  \n",
        "elif b>=a and b>=c:\n",
        "  \n",
        "  print(\"{} is the largest number.\" .format(b))\n",
        "  \n",
        "else:\n",
        "  print(\"{} is the largest number.\" .format(c))"
      ],
      "execution_count": 37,
      "outputs": [
        {
          "output_type": "stream",
          "text": [
            "1 is the largest number.\n"
          ],
          "name": "stdout"
        }
      ]
    },
    {
      "cell_type": "markdown",
      "metadata": {
        "id": "7yowGjSFe95E"
      },
      "source": [
        "2. Write a python program to check whether a character is uppercase or lowercase alphabet."
      ]
    },
    {
      "cell_type": "code",
      "metadata": {
        "colab": {
          "base_uri": "https://localhost:8080/"
        },
        "id": "p75e6Kr0e-EA",
        "outputId": "8df0d698-5c0c-4953-b088-6f4a4eb284bc"
      },
      "source": [
        "ch = 'U'\n",
        " \n",
        "if (ch >= 'A' and ch <= 'Z'):\n",
        "\n",
        "  print(\"\\\"{}\\\" is an UpperCase character\" .format(ch)) \n",
        " \n",
        "elif (ch >= 'a' and ch <= 'z'):\n",
        "\n",
        "  print(\"\\\"{}\\\" is a LowerCase character\" .format(ch))\n",
        "\n",
        "else:\n",
        "\n",
        "  print(\"Error!!! \\\"{}\\\" is not an Alphabetical character!!! \" .format(ch))"
      ],
      "execution_count": 41,
      "outputs": [
        {
          "output_type": "stream",
          "text": [
            "\"U\" is an UpperCase character\n"
          ],
          "name": "stdout"
        }
      ]
    },
    {
      "cell_type": "markdown",
      "metadata": {
        "id": "1Zp2QjpJmpM0"
      },
      "source": [
        "3. Write a Program to find whether given input is number or character."
      ]
    },
    {
      "cell_type": "code",
      "metadata": {
        "colab": {
          "base_uri": "https://localhost:8080/"
        },
        "id": "sD_C8EqTo_1c",
        "outputId": "86040633-c986-4f11-d45f-0bbea0527917"
      },
      "source": [
        "def check(ch):\n",
        "\n",
        "  if((ch >= 'a' and ch <= 'z') or (ch >= 'A' and ch <= 'Z')): \n",
        "\n",
        "    print(\"\\nYour given input \\\"{}\\\" is an Alphabetical Character.\" .format(ch)) \n",
        "\n",
        "  elif(ch >= '0' and ch <= '9'):\n",
        "\n",
        "    print(\"\\nYour given input \\\"{}\\\" is a Number.\" .format(ch)) \n",
        "\n",
        "  else:\n",
        "\n",
        "    print(\"\\nYour given input \\\"{}\\\" is a Special Character.\" .format(ch)) \n",
        "\n",
        "ch = input(\"Please enter a Character : \")\n",
        "\n",
        "check(ch)"
      ],
      "execution_count": 42,
      "outputs": [
        {
          "output_type": "stream",
          "text": [
            "Please enter a Character : 26\n",
            "\n",
            "Your given input \"26\" is a Number.\n"
          ],
          "name": "stdout"
        }
      ]
    },
    {
      "cell_type": "markdown",
      "metadata": {
        "id": "UNfdzIYJqsFk"
      },
      "source": [
        "4. Write a program to check whether the input alphabet is vowel or not using if-else."
      ]
    },
    {
      "cell_type": "code",
      "metadata": {
        "colab": {
          "base_uri": "https://localhost:8080/"
        },
        "id": "WTTHw2lmqrrA",
        "outputId": "95b455d5-2e3e-45a5-dab2-ba873ade4949"
      },
      "source": [
        "def check(ch):\n",
        "\n",
        "  if(ch == 'a' or ch == 'e' or ch == 'i' or ch == 'o' or ch == 'u' or ch == 'A' or ch == 'E' or ch == 'I' or ch == 'O' or ch == 'U'): \n",
        "\n",
        "    print(\"Your given input \\\"{}\\\" is a vowel.\" .format(ch)) \n",
        "\n",
        "  else:\n",
        "\n",
        "    print(\"Your given input \\\"{}\\\" is not a vowel.\" .format(ch))\n",
        "\n",
        "ch = input(\"Please enter an alphabet: \")\n",
        "\n",
        "check(ch)"
      ],
      "execution_count": 46,
      "outputs": [
        {
          "output_type": "stream",
          "text": [
            "Please enter an alphabet: a\n",
            "Your given input \"a\" is a vowel.\n"
          ],
          "name": "stdout"
        }
      ]
    },
    {
      "cell_type": "markdown",
      "metadata": {
        "id": "X9vL-OKYuKsc"
      },
      "source": [
        "5. Write a program to check whether the entered year is leap year or not."
      ]
    },
    {
      "cell_type": "code",
      "metadata": {
        "colab": {
          "base_uri": "https://localhost:8080/"
        },
        "id": "hOKBzEgduLCU",
        "outputId": "2d173325-63f4-4a85-e20f-57599ee593d0"
      },
      "source": [
        "year = int(input(\"Enter a year: \"))\n",
        "\n",
        "if (year % 4) == 0:\n",
        "   \n",
        "   if (year % 100) == 0:\n",
        "       \n",
        "       if (year % 400) == 0:\n",
        "         \n",
        "           print(\"{} is a leap year\".format(year))\n",
        "       \n",
        "       else:\n",
        "       \n",
        "           print(\"{} is not a leap year\".format(year))\n",
        "   else:\n",
        "       \n",
        "       print(\"{} is a leap year\".format(year))\n",
        "\n",
        "else:\n",
        "\n",
        "   print(\"{} is not a leap year\".format(year))"
      ],
      "execution_count": 48,
      "outputs": [
        {
          "output_type": "stream",
          "text": [
            "Enter a year: 2096\n",
            "2096 is a leap year\n"
          ],
          "name": "stdout"
        }
      ]
    },
    {
      "cell_type": "markdown",
      "metadata": {
        "id": "e4wHIGpeS0ng"
      },
      "source": [
        "6. Write a program to check if the number is Armstrong or not."
      ]
    },
    {
      "cell_type": "code",
      "metadata": {
        "id": "kksNlsRqS3Zo"
      },
      "source": [
        "num = int(input(\"Enter a number: \"))  \n",
        "\n",
        "sum = 0  \n",
        "\n",
        "a = num  \n",
        "  \n",
        "while a > 0:  \n",
        "  \n",
        "   b = a % 10  \n",
        "  \n",
        "   sum += b ** 3  \n",
        "  \n",
        "   a //= 10  \n",
        "  \n",
        "if num == sum:  \n",
        " \n",
        "   print(num,\"is an Armstrong number!!!\")  \n",
        "else:  \n",
        " \n",
        "   print(num,\"is not an Armstrong number!!!\")  "
      ],
      "execution_count": null,
      "outputs": []
    },
    {
      "cell_type": "markdown",
      "metadata": {
        "id": "UKMa19E4W3mg"
      },
      "source": [
        "7. Write a program to compute the grade from marks. "
      ]
    },
    {
      "cell_type": "code",
      "metadata": {
        "colab": {
          "base_uri": "https://localhost:8080/"
        },
        "id": "UbvU_J_VW5PM",
        "outputId": "c774f22f-115a-4cf5-90c6-dbbb99d630bd"
      },
      "source": [
        "marks = int(input(\"Enter your marks: \"))\n",
        "\n",
        "if (100>= marks >90):\n",
        "\n",
        "  print(\"Congratulations!!! You obtained grade \\'A\\'. Excellent result!!!\") \n",
        " \n",
        "elif (90 >= marks > 80):\n",
        "\n",
        "  print(\"Congratulations!!! You obtained grade \\'B\\'. Very Good result!!!\") \n",
        "\n",
        "elif (80>= marks > 70):\n",
        "  \n",
        "  print(\"Congratulations!!! You obtained \\'C\\'. Good Result!!!\") \n",
        "\n",
        "elif (70>= marks > 60):\n",
        "  \n",
        "  print(\"Congratulations!!! You obtained \\'D\\'. Satisfactory!!!\")\n",
        "\n",
        "elif (60>=marks>50):\n",
        "  \n",
        "  print(\"You obtained \\'E\\'. Try Harder!!!\")  \n",
        "\n",
        "else:\n",
        "\n",
        "  print(\"You obtained \\'F\\'. You Failed. Study Harder!!!\")"
      ],
      "execution_count": 53,
      "outputs": [
        {
          "output_type": "stream",
          "text": [
            "Enter your marks: 90\n",
            "Congratulations!!! You obtained grade 'B'. Very Good result!!!\n"
          ],
          "name": "stdout"
        }
      ]
    }
  ]
}