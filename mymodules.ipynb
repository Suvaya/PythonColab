{
  "nbformat": 4,
  "nbformat_minor": 0,
  "metadata": {
    "colab": {
      "name": "mymodules.ipynb",
      "provenance": [],
      "collapsed_sections": [],
      "authorship_tag": "ABX9TyNp1gkXc+AKpXEVTGUAbUxi",
      "include_colab_link": true
    },
    "kernelspec": {
      "name": "python3",
      "display_name": "Python 3"
    },
    "language_info": {
      "name": "python"
    }
  },
  "cells": [
    {
      "cell_type": "markdown",
      "metadata": {
        "id": "view-in-github",
        "colab_type": "text"
      },
      "source": [
        "<a href=\"https://colab.research.google.com/github/Suvaya/PythonColab/blob/main/mymodules.ipynb\" target=\"_parent\"><img src=\"https://colab.research.google.com/assets/colab-badge.svg\" alt=\"Open In Colab\"/></a>"
      ]
    },
    {
      "cell_type": "markdown",
      "metadata": {
        "id": "JkQBfchP3oQ0"
      },
      "source": [
        "12. Write a python module with two functions:\n",
        "GCD\n",
        "LCM\n"
      ]
    },
    {
      "cell_type": "code",
      "metadata": {
        "id": "CjZV0kP_2gSk"
      },
      "source": [
        "def gcd(a,b):\n",
        "    \n",
        "#Compute the greatest common divisor of a and b\n",
        "  if(b==0):\n",
        "  \n",
        "    return a\n",
        "  \n",
        "  else:\n",
        "  \n",
        "    return gcd(b,a%b)\n",
        "    \n",
        "def lcm(a, b):\n",
        "\n",
        "#Compute the lowest common multiple of a and b\n",
        "  return int(a * b / gcd(a, b))"
      ],
      "execution_count": null,
      "outputs": []
    },
    {
      "cell_type": "markdown",
      "metadata": {
        "id": "fDOSldTa3sEk"
      },
      "source": [
        " 13. Write a python module with multiple sorting algorithms as its functions."
      ]
    },
    {
      "cell_type": "code",
      "metadata": {
        "id": "OcHTlkqq3CyY"
      },
      "source": [
        "#Bubble sort\n",
        "def bubblesort(list):\n",
        "\n",
        "# Swap the elements to arrange in order\n",
        "  for iter_num in range(len(list)-1,0,-1):\n",
        "\n",
        "    for idx in range(iter_num):\n",
        "\n",
        "      if list[idx]>list[idx+1]:\n",
        "\n",
        "        temp = list[idx]\n",
        "\n",
        "        list[idx] = list[idx+1]\n",
        "\n",
        "        list[idx+1] = temp"
      ],
      "execution_count": null,
      "outputs": []
    }
  ]
}