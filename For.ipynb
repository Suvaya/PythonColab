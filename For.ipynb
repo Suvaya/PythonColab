{
  "nbformat": 4,
  "nbformat_minor": 0,
  "metadata": {
    "colab": {
      "name": "For.ipynb",
      "provenance": [],
      "collapsed_sections": [],
      "authorship_tag": "ABX9TyOoWy8j1rdQ7xEPzpL9ZcA8",
      "include_colab_link": true
    },
    "kernelspec": {
      "name": "python3",
      "display_name": "Python 3"
    },
    "language_info": {
      "name": "python"
    }
  },
  "cells": [
    {
      "cell_type": "markdown",
      "metadata": {
        "id": "view-in-github",
        "colab_type": "text"
      },
      "source": [
        "<a href=\"https://colab.research.google.com/github/Suvaya/PythonColab/blob/main/For.ipynb\" target=\"_parent\"><img src=\"https://colab.research.google.com/assets/colab-badge.svg\" alt=\"Open In Colab\"/></a>"
      ]
    },
    {
      "cell_type": "markdown",
      "metadata": {
        "id": "JLF8Ml9Mtd_o"
      },
      "source": [
        "1. Multiply following matrices.\n",
        "A = [[1,2,3],\n",
        "     [4,5,6],\n",
        "     [7,8,9]]\n",
        "B=[[111,22,33],\n",
        "   [44,55,56],\n",
        "   [47,86,19]]\n",
        " "
      ]
    },
    {
      "cell_type": "code",
      "metadata": {
        "colab": {
          "base_uri": "https://localhost:8080/"
        },
        "id": "p0PQt8niqqNY",
        "outputId": "86837e9d-148b-4639-8d52-50722b52e242"
      },
      "source": [
        "A = [[1,2,3],\n",
        "     [4,5,6],\n",
        "     [7,8,9]]\n",
        "B=[[111,22,33],\n",
        "   [44,55,56],\n",
        "   [47,86,19]]\n",
        " \n",
        "C=[[0,0,0],\n",
        "   [0,0,0],\n",
        "   [0,0,0]]\n",
        " \n",
        "for i in range(0,len(C)):\n",
        "\n",
        "  for j in range(0,len(C[0])):\n",
        "\n",
        "    for k in range(0,len(B)):\n",
        "\n",
        "      C[i][j] += A[i][k]*B[k][j]\n",
        "\n",
        "for row in C:\n",
        "\n",
        "  print(row)"
      ],
      "execution_count": null,
      "outputs": [
        {
          "output_type": "stream",
          "text": [
            "[340, 390, 202]\n",
            "[946, 879, 526]\n",
            "[1552, 1368, 850]\n"
          ],
          "name": "stdout"
        }
      ]
    },
    {
      "cell_type": "markdown",
      "metadata": {
        "id": "8-Ha5CMgt6rk"
      },
      "source": [
        "2. Multiply following matrices\n",
        "\n",
        "C = [[111,22,33,44],\n",
        "     [44,55,56,1],\n",
        "     [47,86,19,2],\n",
        "     [1,2,22,3]]\n",
        "D = [[11,22,3,4],\n",
        "     [4,5,6,1],\n",
        "     [7,6,19,2],\n",
        "     [1,2,22,3]]\n",
        "\n"
      ]
    },
    {
      "cell_type": "code",
      "metadata": {
        "id": "j6mVEOrOt6iM"
      },
      "source": [
        "C = [[111,22,33,44],\n",
        "     [44,55,56,1],\n",
        "     [47,86,19,2],\n",
        "     [1,2,22,3]]\n",
        "D = [[11,22,3,4],\n",
        "     [4,5,6,1],\n",
        "     [7,6,19,2],\n",
        "     [1,2,22,3]]\n",
        "E = [[0,0,0,0],\n",
        "     [0,0,0,0],\n",
        "     [0,0,0,0],\n",
        "     [0,0,0,0]]\n",
        "\n",
        "for i in range(0,len(E)):\n",
        "  \n",
        "  for j in range(0,len(E[0])):\n",
        "    \n",
        "    for k in range(0,len(D)):\n",
        "      \n",
        "      E[i][j] += C[i][j]*D[k][j]\n",
        "      \n",
        "\n",
        "for row in E:\n",
        "  \n",
        "  print(row)"
      ],
      "execution_count": null,
      "outputs": []
    },
    {
      "cell_type": "markdown",
      "metadata": {
        "id": "kIqM1bqguXnI"
      },
      "source": [
        "3. Generate the following patterns using for loop"
      ]
    },
    {
      "cell_type": "markdown",
      "metadata": {
        "id": "o9RGVxQWuXkA"
      },
      "source": [
        "a. \n",
        "\n",
        "F\n",
        "\n",
        "FFF\n",
        "\n",
        "FFFFF\n",
        "\n",
        "FFFFFFF\n",
        "\n",
        "FFFFFFFFF\n",
        "\n",
        "FFFFFFFFFFF\n"
      ]
    },
    {
      "cell_type": "code",
      "metadata": {
        "id": "kw1Ws4yDuXZE",
        "colab": {
          "base_uri": "https://localhost:8080/"
        },
        "outputId": "5329e610-6e8f-4396-a21a-1078117e4cb9"
      },
      "source": [
        "rows = 6\n",
        "\n",
        "for i in range(1, rows + 1):\n",
        "  \n",
        "    for j in range(1, i - 1):\n",
        "      \n",
        "        print('F', end=\"\")\n",
        "        \n",
        "    for j in range(i-1,0,-1):\n",
        "      \n",
        "        print('F', end=\"\")\n",
        "        \n",
        "    print()"
      ],
      "execution_count": null,
      "outputs": [
        {
          "output_type": "stream",
          "text": [
            "\n",
            "F\n",
            "FFF\n",
            "FFFFF\n",
            "FFFFFFF\n",
            "FFFFFFFFF\n"
          ],
          "name": "stdout"
        }
      ]
    },
    {
      "cell_type": "markdown",
      "metadata": {
        "id": "q3m37cHyuu5w"
      },
      "source": [
        "b. \n",
        "\n",
        "F\n",
        "\n",
        "F\n",
        "\n",
        "FF\n",
        "\n",
        "FFF\n",
        "\n",
        "FFFFF\n",
        "\n",
        "FFFFFFFF\n",
        "\n",
        "FFFFFFFFFFFFF\n",
        "\n",
        "FFFFFFFFFFFFFFFFFFFFF\n",
        "\n",
        "FFFFFFFFFFFFFFFFFFFFFFFFFFFFFFFFFF\n"
      ]
    },
    {
      "cell_type": "code",
      "metadata": {
        "id": "9Z7PBViVuuu0",
        "colab": {
          "base_uri": "https://localhost:8080/"
        },
        "outputId": "f266d1b6-9e7a-4001-f4c7-5edc3bd8cc4f"
      },
      "source": [
        "prev = 0\n",
        "\n",
        "curr = 1\n",
        "\n",
        "for i in range(1,10):\n",
        "\n",
        "  for j in range(0,curr):\n",
        "\n",
        "    print(\"F\",end='')\n",
        "\n",
        "  temp = prev\n",
        "\n",
        "  prev = curr\n",
        "\n",
        "  curr = curr + temp\n",
        "\n",
        "  print('')"
      ],
      "execution_count": null,
      "outputs": [
        {
          "output_type": "stream",
          "text": [
            "F\n",
            "F\n",
            "FF\n",
            "FFF\n",
            "FFFFF\n",
            "FFFFFFFF\n",
            "FFFFFFFFFFFFF\n",
            "FFFFFFFFFFFFFFFFFFFFF\n",
            "FFFFFFFFFFFFFFFFFFFFFFFFFFFFFFFFFF\n"
          ],
          "name": "stdout"
        }
      ]
    }
  ]
}