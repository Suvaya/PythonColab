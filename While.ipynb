{
  "nbformat": 4,
  "nbformat_minor": 0,
  "metadata": {
    "colab": {
      "name": "While.ipynb",
      "provenance": [],
      "collapsed_sections": [],
      "authorship_tag": "ABX9TyMfI9g2QNZ7X9heNH3ooO2f",
      "include_colab_link": true
    },
    "kernelspec": {
      "name": "python3",
      "display_name": "Python 3"
    },
    "language_info": {
      "name": "python"
    }
  },
  "cells": [
    {
      "cell_type": "markdown",
      "metadata": {
        "id": "view-in-github",
        "colab_type": "text"
      },
      "source": [
        "<a href=\"https://colab.research.google.com/github/Suvaya/PythonColab/blob/main/While.ipynb\" target=\"_parent\"><img src=\"https://colab.research.google.com/assets/colab-badge.svg\" alt=\"Open In Colab\"/></a>"
      ]
    },
    {
      "cell_type": "markdown",
      "metadata": {
        "id": "gmW1hp7m0cFA"
      },
      "source": [
        "1. Remove all the duplicates from the following list using while."
      ]
    },
    {
      "cell_type": "code",
      "metadata": {
        "id": "iytkYoCQ0NW0"
      },
      "source": [
        "bird = ['crows','pigeon','eagles','falcon','pigeon','falcon','falcon']\n",
        "\n",
        "i = 0\n",
        "\n",
        "while i < len(bird):\n",
        "\n",
        "  j = i + 1\n",
        "  \n",
        "  while j < len(bird):\n",
        "      \n",
        "      if bird[i] == bird[j]:\n",
        "       \n",
        "        del bird[j]\n",
        "     \n",
        "      else:\n",
        "       \n",
        "        j += 1\n",
        "  i += 1\n",
        "\n",
        "print(bird)"
      ],
      "execution_count": null,
      "outputs": []
    },
    {
      "cell_type": "markdown",
      "metadata": {
        "id": "AiK2T-TJ0b-w"
      },
      "source": [
        "2.Deli: Make a list called sandwich_orders and fill it with the names of various sandwiches. Then make an empty list called finished_sandwiches . Loop through the list of sandwich orders and print a message for each order, such as I made your tuna sandwich. As each sandwich is made, move it to the list of finished sandwiches. After all the sandwiches have been made, print a message listing each sandwich that was made."
      ]
    },
    {
      "cell_type": "code",
      "metadata": {
        "id": "mg2ARWKFmoxQ"
      },
      "source": [
        "sandwich_orders = ['Egg Sandwich','Mushroom Sandwich','Mackarel Sandwich','Tuna Sandwich','Ham Sandwich','Chicken Sandwich','Cheese Sandwich']\n",
        "\n",
        "finished_sandwiches = []\n",
        "\n",
        "while sandwich_orders:\n",
        "\n",
        "    a = sandwich_orders.pop()\n",
        "\n",
        "    print(\"I made your \" + a + \".\")\n",
        "\n",
        "    finished_sandwiches.append(a)\n",
        "\n",
        "print(\"\\n\")\n",
        "\n",
        "print(finished_sandwiches)\n",
        "\n",
        "\n"
      ],
      "execution_count": null,
      "outputs": []
    },
    {
      "cell_type": "markdown",
      "metadata": {
        "id": "vtR4NwqhoDIE"
      },
      "source": [
        "3. Dream Vacation: Write a program that polls users about their dream vacation. Write a prompt similar to If you could visit one place in the world, where would you go? Include a block of code that prints the results of the poll."
      ]
    },
    {
      "cell_type": "code",
      "metadata": {
        "id": "7uAfY8HEoDfg"
      },
      "source": [
        "responses = {}\n",
        "\n",
        "polling_active = True\n",
        "\n",
        "while polling_active:\n",
        "    \n",
        "    name = input(\"\\nWhat is your name? \")\n",
        "\n",
        "    response = input(\"Where is your dream vacation?\")\n",
        "    \n",
        "    responses[name] = response\n",
        "    \n",
        "    repeat = input(\"Would you like to let another person respond? (yes/ no) \")\n",
        "   \n",
        "    if repeat == 'no':\n",
        "\n",
        "        polling_active = False\n",
        "        \n",
        "print(\"\\n--- Poll Results ---\")\n",
        "\n",
        "for name, response in responses.items():\n",
        "\n",
        "    print(name + \" wishes to visit \" + response + \".\")"
      ],
      "execution_count": null,
      "outputs": []
    },
    {
      "cell_type": "code",
      "metadata": {
        "id": "9-pR-qtzq_h4"
      },
      "source": [
        "dream_place = []\n",
        "\n",
        "prompt = \"\\nIf you could visit one place in the world, where would you go?\"\n",
        "\n",
        "prompt += \"\\nEnter 'quit' to end the program. \"\n",
        "\n",
        "active = True\n",
        "\n",
        "while active:\n",
        "\n",
        "  place = input(prompt)\n",
        "\n",
        "  dream_place.append(place)\n",
        "\n",
        "  if place == 'quit':\n",
        "\n",
        "    active = False\n",
        "    \n",
        "    dream_place.remove('quit')\n",
        "\n",
        "    break\n",
        "  \n",
        "  else:\n",
        "  \n",
        "    print(\"The place you want to go is \" + place + \".\")\n",
        "\n",
        "print(dream_place)"
      ],
      "execution_count": null,
      "outputs": []
    }
  ]
}